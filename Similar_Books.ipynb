{
 "cells": [
  {
   "cell_type": "code",
   "execution_count": 2,
   "metadata": {},
   "outputs": [],
   "source": [
    "from fastai.collab import *\n",
    "from fastai.tabular.all import *"
   ]
  },
  {
   "cell_type": "markdown",
   "metadata": {},
   "source": [
    "# Similar Books"
   ]
  },
  {
   "cell_type": "markdown",
   "metadata": {},
   "source": [
    "Welcome to Similar Books! Have you recently read a book that was a real page turner and you couldn't put it down, and now you are finished with it and you are wondering which next book you should read? Worry no more. You have come to the right place.\n",
    "\n",
    "Similar Books will suggest to you a similar book to the one you have just read and even give you a link of the book's page in Amazon's GoodReads where you can review the book more and decide if you want to read it.\n",
    "\n",
    "All you have to do is input the name of the book you want similar suggestions and how many books you want suggested and Similar Books will handle the rest! \n",
    "\n",
    "We currently have 10,000 books in our system! If you liked Similar Books, share it with a friend too so they can also enjoy."
   ]
  },
  {
   "cell_type": "markdown",
   "metadata": {},
   "source": [
    "### Developer Details"
   ]
  },
  {
   "cell_type": "markdown",
   "metadata": {},
   "source": [
    "My name is Jimmie Munyi. You can connect with me on [Twitter](https://twitter.com/jimmie_munyi). You can check out other projects I have done from [My GitHub](https://github.com/jimmiemunyi) and from [My Blog](https://jimmiemunyi.github.io/blog/).\n",
    "\n",
    "If you wish to see how Similar Books was created, read this [blog post](https://jimmiemunyi.github.io/blog/tutorial/2021/02/15/Book-Recommendation-Model-Training.html)."
   ]
  },
  {
   "cell_type": "code",
   "execution_count": 15,
   "metadata": {},
   "outputs": [],
   "source": [
    "path = Path()\n",
    "learn_inf = load_learner(path/'final_model.pkl', cpu=True)\n",
    "\n",
    "book_factors = learn_inf.model.i_weight.weight\n",
    "\n",
    "def get_similar_books(title, number):\n",
    "    idx = learn_inf.dls.classes['original_title'].o2i[title]\n",
    "    distances = nn.CosineSimilarity(dim=1)(book_factors, book_factors[idx][None])\n",
    "    idx = distances.argsort(descending=True)[1:number+1]\n",
    "    similar = [learn_inf.dls.classes['original_title'][i] for i in idx]\n",
    "    return similar"
   ]
  },
  {
   "cell_type": "code",
   "execution_count": 14,
   "metadata": {},
   "outputs": [
    {
     "data": {
      "text/plain": [
       "['Angels & Demons ',\n",
       " 'The Lost Symbol',\n",
       " 'Deception Point',\n",
       " 'Digital Fortress',\n",
       " 'The Firm',\n",
       " 'Dragon Tears',\n",
       " 'A Time to Kill',\n",
       " 'Prey',\n",
       " 'The Help',\n",
       " 'The Nanny Diaries']"
      ]
     },
     "execution_count": 14,
     "metadata": {},
     "output_type": "execute_result"
    }
   ],
   "source": [
    "title = 'The Da Vinci Code'\n",
    "number = 10\n",
    "get_similar_books(title, number)"
   ]
  },
  {
   "cell_type": "code",
   "execution_count": null,
   "metadata": {},
   "outputs": [],
   "source": []
  }
 ],
 "metadata": {
  "kernelspec": {
   "display_name": "Python 3",
   "language": "python",
   "name": "python3"
  },
  "language_info": {
   "codemirror_mode": {
    "name": "ipython",
    "version": 3
   },
   "file_extension": ".py",
   "mimetype": "text/x-python",
   "name": "python",
   "nbconvert_exporter": "python",
   "pygments_lexer": "ipython3",
   "version": "3.8.3"
  }
 },
 "nbformat": 4,
 "nbformat_minor": 4
}
